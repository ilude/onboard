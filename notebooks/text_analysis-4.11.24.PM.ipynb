{
 "cells": [
  {
   "cell_type": "markdown",
   "metadata": {},
   "source": [
    "https://en.wikipedia.org/wiki/Learning_to_rank"
   ]
  },
  {
   "cell_type": "code",
   "execution_count": 2,
   "metadata": {},
   "outputs": [
    {
     "name": "stdout",
     "output_type": "stream",
     "text": [
      "Relevance Score: 0.82 - Article: Machine learning is becoming more and more important in data science.\n",
      "Relevance Score: 0.81 - Article: I don't really understand this article about natural language processing.\n",
      "Relevance Score: 0.81 - Article: This is a great article about deep learning.\n"
     ]
    }
   ],
   "source": [
    "import numpy as np\n",
    "from sklearn.linear_model import LogisticRegression\n",
    "from sklearn.feature_extraction.text import TfidfVectorizer\n",
    "\n",
    "# Sample article data\n",
    "articles = [\n",
    "    \"This is a great article about machine learning.\",\n",
    "    \"Machine learning is a powerful tool for data analysis.\",\n",
    "    \"I learned a lot about natural language processing in this article.\",\n",
    "    \"This article is not very interesting.\",\n",
    "    \"The author did a great job explaining the basics of deep learning.\"\n",
    "]\n",
    "\n",
    "# Sample labels (1 for relevant, 0 for not relevant)\n",
    "labels = [1, 1, 1, 0, 1]\n",
    "\n",
    "# Create a TF-IDF matrix from the article text\n",
    "vectorizer = TfidfVectorizer()\n",
    "X = vectorizer.fit_transform(articles)\n",
    "\n",
    "# Train a logistic regression model\n",
    "model = LogisticRegression()\n",
    "model.fit(X, labels)\n",
    "\n",
    "# Define a function to rank new articles\n",
    "def rank_articles(new_articles):\n",
    "    new_X = vectorizer.transform(new_articles)\n",
    "    scores = model.predict_proba(new_X)[:, 1]\n",
    "    return sorted(zip(new_articles, scores), key=lambda x: x[1], reverse=True)\n",
    "\n",
    "# Example usage\n",
    "new_articles = [\n",
    "    \"This is a great article about deep learning.\",\n",
    "    \"I don't really understand this article about natural language processing.\",\n",
    "    \"Machine learning is becoming more and more important in data science.\"\n",
    "]\n",
    "\n",
    "ranked_articles = rank_articles(new_articles)\n",
    "for article, score in ranked_articles:\n",
    "    print(f\"Relevance Score: {score:.2f} - Article: {article}\")"
   ]
  },
  {
   "cell_type": "code",
   "execution_count": 2,
   "metadata": {},
   "outputs": [
    {
     "name": "stdout",
     "output_type": "stream",
     "text": [
      "Relevance Score: 0.99 - Article: 6 Proven Strategies to Grow Your Small Business Online\n",
      "Relevance Score: 0.97 - Article: The Future of Transportation: How Self-Driving Cars Will Change the World\n",
      "Relevance Score: 0.95 - Article: The Surprising Impact of AI on the Music Industry\n",
      "Relevance Score: 0.90 - Article: Exploring the Latest Advancements in Renewable Energy Technology\n",
      "Relevance Score: 0.76 - Article: Navigating the Complexities of Cybersecurity in the Digital Age\n"
     ]
    }
   ],
   "source": [
    "import numpy as np\n",
    "from sklearn.feature_extraction.text import TfidfVectorizer\n",
    "from sklearn.linear_model import BayesianRidge\n",
    "\n",
    "# Sample article data\n",
    "articles = [\n",
    "    \"New AI Algorithm Revolutionizes Image Recognition\",\n",
    "    \"The Future of Renewable Energy in Developing Countries\",\n",
    "    \"5 Tips to Improve Your Python Coding Productivity\",\n",
    "    \"Why Blockchain Technology is a Game-Changer for Finance\",\n",
    "    \"How IoT is Transforming the Way We Live and Work\",\n",
    "    \"The Pros and Cons of Remote Work in the Post-Pandemic Era\",\n",
    "    \"Navigating the Complex World of Cryptocurrency Investing\",\n",
    "    \"The Rise of eSports: A Billion-Dollar Industry Disrupting Traditional Sports\",\n",
    "    \"Unlocking the Secrets of Successful Content Marketing Strategies\",\n",
    "    \"The Impact of Artificial Intelligence on the Healthcare Industry\"\n",
    "]\n",
    "\n",
    "# Sample labels (1 for relevant, 0 for not relevant)\n",
    "labels = [1, 1, 1, 1, 1, 0, 1, 1, 1, 1]\n",
    "\n",
    "# Create a TF-IDF matrix from the article text\n",
    "vectorizer = TfidfVectorizer()\n",
    "X = vectorizer.fit_transform(articles)\n",
    "X = X.toarray()  # Convert sparse matrix to dense array\n",
    "\n",
    "# Train the Bayesian Ridge Regression model\n",
    "model = BayesianRidge()\n",
    "model.fit(X, labels)\n",
    "\n",
    "# Define a function to rank new articles\n",
    "def rank_articles(new_articles):\n",
    "    new_X = vectorizer.transform(new_articles)\n",
    "    new_X = new_X.toarray()  # Convert sparse matrix to dense array\n",
    "    scores = model.predict(new_X)\n",
    "    return sorted(zip(new_articles, scores), key=lambda x: x[1], reverse=True)\n",
    "\n",
    "# Example usage\n",
    "new_articles = [\n",
    "    \"The Surprising Impact of AI on the Music Industry\",\n",
    "    \"6 Proven Strategies to Grow Your Small Business Online\",\n",
    "    \"Exploring the Latest Advancements in Renewable Energy Technology\",\n",
    "    \"Navigating the Complexities of Cybersecurity in the Digital Age\",\n",
    "    \"The Future of Transportation: How Self-Driving Cars Will Change the World\"\n",
    "]\n",
    "\n",
    "ranked_articles = rank_articles(new_articles)\n",
    "for article, score in ranked_articles:\n",
    "    print(f\"Relevance Score: {score:.2f} - Article: {article}\")"
   ]
  }
 ],
 "metadata": {
  "kernelspec": {
   "display_name": "Python 3",
   "language": "python",
   "name": "python3"
  },
  "language_info": {
   "codemirror_mode": {
    "name": "ipython",
    "version": 3
   },
   "file_extension": ".py",
   "mimetype": "text/x-python",
   "name": "python",
   "nbconvert_exporter": "python",
   "pygments_lexer": "ipython3",
   "version": "3.12.3"
  }
 },
 "nbformat": 4,
 "nbformat_minor": 2
}
