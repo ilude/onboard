{
 "cells": [
  {
   "cell_type": "code",
   "execution_count": null,
   "metadata": {},
   "outputs": [],
   "source": [
    "import json\n",
    "from bs4 import BeautifulSoup\n",
    "\n",
    "def parse_youtube_watch_history(html_file):\n",
    "    with open(html_file, 'r') as f:\n",
    "        html = f.read()\n",
    "\n",
    "    soup = BeautifulSoup(html, 'html.parser')\n",
    "\n",
    "    watch_history = []\n",
    "\n",
    "    for row in soup.find_all('div', class_='watch-activity-row'):\n",
    "        item = {}\n",
    "        item['title'] = row.find('div', class_='watch-activity-title').text.strip()\n",
    "        item['url'] = row.find('a')['href']\n",
    "        item['timestamp'] = row.find('div', class_='watch-activity-time').text.strip()\n",
    "        watch_history.append(item)\n",
    "\n",
    "    return watch_history\n",
    "\n",
    "# Usage example\n",
    "watch_history = parse_youtube_watch_history('./data/watch_history.html')\n",
    "\n",
    "\n",
    "with open('./data/youtube_watched.json', 'w', encoding='utf-8') as f:\n",
    "  json.dump(watch_history, f, ensure_ascii=False, indent=2)\n"
   ]
  }
 ],
 "metadata": {
  "language_info": {
   "name": "python"
  }
 },
 "nbformat": 4,
 "nbformat_minor": 2
}
