{
 "cells": [
  {
   "cell_type": "code",
   "execution_count": 6,
   "metadata": {},
   "outputs": [],
   "source": [
    "import json\n",
    "from bs4 import BeautifulSoup\n",
    "\n",
    "with open('data/watch-history.html', 'r') as f:\n",
    "    html = f.read()\n",
    "\n",
    "soup = BeautifulSoup(html, 'html.parser')\n",
    "\n",
    "watch_history = []\n",
    "\n",
    "for row in soup.select('a[href^=\"https://www.youtube.com/watch?v=\"]'):\n",
    "    item = {}\n",
    "    item['title'] = row.text.strip()\n",
    "    item['url'] = row['href']\n",
    "    watch_history.append(item)\n",
    "\n",
    "with open('./data/youtube_watched.json', 'w', encoding='utf-8') as f:\n",
    "  json.dump(watch_history, f, ensure_ascii=False, indent=2)\n"
   ]
  }
 ],
 "metadata": {
  "kernelspec": {
   "display_name": "Python 3",
   "language": "python",
   "name": "python3"
  },
  "language_info": {
   "codemirror_mode": {
    "name": "ipython",
    "version": 3
   },
   "file_extension": ".py",
   "mimetype": "text/x-python",
   "name": "python",
   "nbconvert_exporter": "python",
   "pygments_lexer": "ipython3",
   "version": "3.12.3"
  }
 },
 "nbformat": 4,
 "nbformat_minor": 2
}
