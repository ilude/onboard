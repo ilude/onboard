{
 "cells": [
  {
   "cell_type": "code",
   "execution_count": 1,
   "metadata": {},
   "outputs": [],
   "source": [
    "import datetime\n",
    "\n",
    "def mean_time_between_updates(datetime_list):\n",
    "    \"\"\"\n",
    "    Calculates the mean time between updates given a list of datetime objects.\n",
    "    \n",
    "    Parameters:\n",
    "    datetime_list (list): A list of datetime objects.\n",
    "    \n",
    "    Returns:\n",
    "    datetime.timedelta: The mean time between updates.\n",
    "    \"\"\"\n",
    "    if len(datetime_list) < 2:\n",
    "        return None\n",
    "    \n",
    "    time_deltas = []\n",
    "    for i in range(1, len(datetime_list)):\n",
    "        time_deltas.append(datetime_list[i] - datetime_list[i-1])\n",
    "    \n",
    "    mean_delta = sum(time_deltas, datetime.timedelta()) / len(time_deltas)\n",
    "    \n",
    "    return mean_delta"
   ]
  },
  {
   "cell_type": "code",
   "execution_count": 2,
   "metadata": {},
   "outputs": [
    {
     "name": "stdout",
     "output_type": "stream",
     "text": [
      "0:05:00\n"
     ]
    }
   ],
   "source": [
    "import datetime\n",
    "\n",
    "dates = [\n",
    "    datetime.datetime(2023, 1, 1, 10, 0, 0),\n",
    "    datetime.datetime(2023, 1, 1, 10, 5, 0),\n",
    "    datetime.datetime(2023, 1, 1, 10, 10, 0),\n",
    "    datetime.datetime(2023, 1, 1, 10, 15, 0),\n",
    "    datetime.datetime(2023, 1, 1, 10, 20, 0)\n",
    "]\n",
    "\n",
    "mean_delta = mean_time_between_updates(dates)\n",
    "print(mean_delta)  # Output: 0:05:00\n"
   ]
  },
  {
   "cell_type": "code",
   "execution_count": null,
   "metadata": {},
   "outputs": [],
   "source": []
  }
 ],
 "metadata": {
  "kernelspec": {
   "display_name": "Python 3",
   "language": "python",
   "name": "python3"
  },
  "language_info": {
   "codemirror_mode": {
    "name": "ipython",
    "version": 3
   },
   "file_extension": ".py",
   "mimetype": "text/x-python",
   "name": "python",
   "nbconvert_exporter": "python",
   "pygments_lexer": "ipython3",
   "version": "3.12.3"
  }
 },
 "nbformat": 4,
 "nbformat_minor": 2
}
