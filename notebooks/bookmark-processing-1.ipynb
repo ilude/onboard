{
 "cells": [
  {
   "cell_type": "code",
   "execution_count": 11,
   "metadata": {
    "metadata": {}
   },
   "outputs": [],
   "source": [
    "import json\n",
    "from bs4 import BeautifulSoup"
   ]
  },
  {
   "cell_type": "code",
   "execution_count": 12,
   "metadata": {
    "metadata": {}
   },
   "outputs": [],
   "source": [
    "def write_json(bookmarks_data):\n",
    "  bookmarks_json = json.dumps(bookmarks_data, indent=2)\n",
    "\n",
    "# Write the JSON data to a file\n",
    "  with open('data/bookmarks.json', 'w') as file:\n",
    "      file.write(bookmarks_json)"
   ]
  },
  {
   "cell_type": "code",
   "execution_count": 13,
   "metadata": {},
   "outputs": [],
   "source": [
    "from urllib.parse import urlparse\n",
    "\n",
    "def get_favicon_filename(url):\n",
    "    parsed_url = urlparse(url)\n",
    "    domain_parts = parsed_url.netloc.split('.')[-2:]\n",
    "    favicon_filename = '.'.join(domain_parts) + '.favicon.ico'\n",
    "    return f'/static/assets/icons/{favicon_filename}'"
   ]
  },
  {
   "cell_type": "code",
   "execution_count": 14,
   "metadata": {
    "metadata": {}
   },
   "outputs": [],
   "source": [
    "def link(a_tag):\n",
    "  return {\n",
    "    'name': a_tag.text,\n",
    "    'href': a_tag['href'],\n",
    "    'favicon': get_favicon_filename(a_tag['href']),\n",
    "    'add_date': a_tag['add_date']\n",
    "  }"
   ]
  },
  {
   "cell_type": "code",
   "execution_count": 15,
   "metadata": {
    "metadata": {}
   },
   "outputs": [],
   "source": [
    "def parse_bookmarks(parent):\n",
    "  children = []\n",
    "  \n",
    "  for child in parent.children:\n",
    "    if child.name == 'a':\n",
    "      children.append(link(child))\n",
    "    if child.name == 'h3':\n",
    "      dl = child.find_next_sibling('dl')\n",
    "      children.append({\n",
    "        'name': child.text,\n",
    "        'contents': parse_bookmarks(dl)\n",
    "      })\n",
    "\n",
    "  return children\n",
    "\n",
    "with open('data/just_bookmarks_5_6_24_no_icons.html', 'r', encoding='utf-8') as file:\n",
    "    html_content = file.read()\n",
    "soup = BeautifulSoup(html_content, 'html.parser')\n",
    "bookmarks = parse_bookmarks(soup.find('dl'))\n",
    "with open('./data/bookmarks.json', 'w', encoding='utf-8') as f:\n",
    "  json.dump(bookmarks[0]['contents'], f, ensure_ascii=False, indent=2)"
   ]
  }
 ],
 "metadata": {
  "kernelspec": {
   "display_name": "Python 3",
   "language": "python",
   "name": "python3"
  },
  "language_info": {
   "codemirror_mode": {
    "name": "ipython",
    "version": 3
   },
   "file_extension": ".py",
   "mimetype": "text/x-python",
   "name": "python",
   "nbconvert_exporter": "python",
   "pygments_lexer": "ipython3",
   "version": "3.12.3"
  }
 },
 "nbformat": 4,
 "nbformat_minor": 2
}
