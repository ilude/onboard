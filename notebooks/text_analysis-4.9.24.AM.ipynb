{
 "cells": [
  {
   "cell_type": "code",
   "execution_count": 1,
   "metadata": {},
   "outputs": [],
   "source": [
    "import re\n",
    "import pandas as pd\n",
    "from sklearn.feature_extraction.text import TfidfVectorizer\n",
    "from sklearn.decomposition import NMF\n",
    "from sklearn.model_selection import train_test_split\n",
    "\n",
    "data = pd.read_json('./data/youtube_history.json')\n",
    "\n"
   ]
  },
  {
   "cell_type": "code",
   "execution_count": 10,
   "metadata": {},
   "outputs": [
    {
     "data": {
      "text/plain": [
       "0                     open ai llm devika source coding\n",
       "1    esp32 home assistant bluetooth esphome ble esp...\n",
       "2    t3 programming react programmer typescript ful...\n",
       "3                                                     \n",
       "4    open source software free huginn tutorial plat...\n",
       "5    learn ai openai api tutorial engineer course f...\n",
       "6    learn ai openai api tutorial engineer course f...\n",
       "7        bookmarks brave browser export how to in from\n",
       "8                                                     \n",
       "9                                                     \n",
       "Name: clean_tags, dtype: object"
      ]
     },
     "execution_count": 10,
     "metadata": {},
     "output_type": "execute_result"
    }
   ],
   "source": [
    "data['clean_tags'] = data['tags'].fillna('').apply(lambda x: list(set(x))).apply(lambda x: ' '.join(map(str, x))).apply(lambda x: x.strip())\n",
    "\n",
    "def remove_duplicates(text):\n",
    "    # Remove special characters and split the text into words\n",
    "    words = re.findall(r'\\b\\w+\\b', text)\n",
    "    unique_words = []\n",
    "    for word in words:\n",
    "        if word not in unique_words:\n",
    "            unique_words.append(word.lower())\n",
    "    return ' '.join(unique_words)\n",
    "\n",
    "# Apply the function to the 'tags' column\n",
    "data['clean_tags'] = data['clean_tags'].apply(remove_duplicates)\n",
    "\n",
    "data['clean_tags'].head(10)"
   ]
  },
  {
   "cell_type": "code",
   "execution_count": 11,
   "metadata": {},
   "outputs": [
    {
     "data": {
      "text/plain": [
       "0    build entire apps with a single prompt free op...\n",
       "1    let s build a room sensor part 1 temperature h...\n",
       "2      everyone s racing to replace redis who will win\n",
       "3                    anthropic claude prompt generator\n",
       "4    huginn free open source automated agents platform\n",
       "Name: clean_title, dtype: object"
      ]
     },
     "execution_count": 11,
     "metadata": {},
     "output_type": "execute_result"
    }
   ],
   "source": [
    "data['clean_title'] = data['title'].apply(remove_duplicates)\n",
    "data['clean_title'].head()"
   ]
  },
  {
   "cell_type": "code",
   "execution_count": 12,
   "metadata": {},
   "outputs": [
    {
     "data": {
      "text/plain": [
       "0       build entire apps with a single prompt free op...\n",
       "1       let s build a room sensor part 1 temperature h...\n",
       "2       everyone s racing to replace redis who will wi...\n",
       "3                      anthropic claude prompt generator \n",
       "4       huginn free open source automated agents platf...\n",
       "                              ...                        \n",
       "2805    diy synth vcf part 2 active filters resonance ...\n",
       "2806             smart tmux sessions with zoxide and fzf \n",
       "2807    easiest guitar pedal build tutorial 7 minute f...\n",
       "2808    cheapest budget way for soundproofing a room s...\n",
       "2809    world s shortest ui ux design course ui design...\n",
       "Name: text, Length: 2810, dtype: object"
      ]
     },
     "execution_count": 12,
     "metadata": {},
     "output_type": "execute_result"
    }
   ],
   "source": [
    "# Combine all the text features into a single column\n",
    "data['text'] = data['clean_title'] + ' ' + data['clean_tags']\n",
    "data['text']"
   ]
  },
  {
   "cell_type": "code",
   "execution_count": 14,
   "metadata": {},
   "outputs": [
    {
     "data": {
      "text/plain": [
       "(2810, 7733)"
      ]
     },
     "execution_count": 14,
     "metadata": {},
     "output_type": "execute_result"
    }
   ],
   "source": [
    "# Create a TF-IDF matrix\n",
    "vectorizer = TfidfVectorizer(\n",
    "  min_df=3, max_features=None,\n",
    "  strip_accents='unicode',\n",
    "  analyzer='word',\n",
    "  token_pattern=r'\\w{1,}',\n",
    "  ngram_range=(1, 3),\n",
    "  stop_words='english')\n",
    "X = vectorizer.fit_transform(data['text'])\n",
    "\n",
    "feature_names = vectorizer.get_feature_names_out()\n",
    "\n",
    "X.shape\n"
   ]
  },
  {
   "cell_type": "code",
   "execution_count": 15,
   "metadata": {},
   "outputs": [
    {
     "data": {
      "text/plain": [
       "array([0.76164846, 0.76159551, 0.76159416, ..., 0.76159765, 0.76159416,\n",
       "       0.76159454])"
      ]
     },
     "execution_count": 15,
     "metadata": {},
     "output_type": "execute_result"
    }
   ],
   "source": [
    "from sklearn.metrics.pairwise import sigmoid_kernel\n",
    "\n",
    "sig = sigmoid_kernel(X, X)\n",
    "sig[0]"
   ]
  },
  {
   "cell_type": "code",
   "execution_count": 16,
   "metadata": {},
   "outputs": [
    {
     "data": {
      "text/plain": [
       "text\n",
       "build entire apps with a single prompt free open source devika tutorial open ai llm devika source coding                                                                                 0\n",
       "let s build a room sensor part 1 temperature humidity and bluetooth esp32 home assistant bluetooth esphome ble esp dht22                                                                 1\n",
       "everyone s racing to replace redis who will win t3 programming react programmer typescript full stack gg theo web development javascript t3dotgg                                         2\n",
       "anthropic claude prompt generator                                                                                                                                                        3\n",
       "huginn free open source automated agents platform open source software free huginn tutorial platform alternative automation elestio overview zapier tool                                 4\n",
       "                                                                                                                                                                                      ... \n",
       "diy synth vcf part 2 active filters resonance moog ms 20 filter diy synthesizer synth vcf                                                                                             2805\n",
       "smart tmux sessions with zoxide and fzf                                                                                                                                               2806\n",
       "easiest guitar pedal build tutorial 7 minute fuzz pedal guitar effects pedal diy kit fuzz build                                                                                       2807\n",
       "cheapest budget way for soundproofing a room soundproofing a room how to soundproof                                                                                                   2808\n",
       "world s shortest ui ux design course ui design world s shortest course resources tutorial developement inspiration in 5 minutes minute for developers web dev uxdesign ux uidesign    2809\n",
       "Length: 2810, dtype: int64"
      ]
     },
     "execution_count": 16,
     "metadata": {},
     "output_type": "execute_result"
    }
   ],
   "source": [
    "indices = pd.Series(data.index, index=data['text']).drop_duplicates()\n",
    "indices"
   ]
  }
 ],
 "metadata": {
  "kernelspec": {
   "display_name": "Python 3",
   "language": "python",
   "name": "python3"
  },
  "language_info": {
   "codemirror_mode": {
    "name": "ipython",
    "version": 3
   },
   "file_extension": ".py",
   "mimetype": "text/x-python",
   "name": "python",
   "nbconvert_exporter": "python",
   "pygments_lexer": "ipython3",
   "version": "3.12.2"
  }
 },
 "nbformat": 4,
 "nbformat_minor": 2
}
