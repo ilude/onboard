{
 "cells": [
  {
   "cell_type": "code",
   "execution_count": 1,
   "metadata": {},
   "outputs": [
    {
     "name": "stdout",
     "output_type": "stream",
     "text": [
      "<class 'pandas.core.frame.DataFrame'>\n",
      "RangeIndex: 2810 entries, 0 to 2809\n",
      "Data columns (total 9 columns):\n",
      " #   Column           Non-Null Count  Dtype \n",
      "---  ------           --------------  ----- \n",
      " 0   url              2810 non-null   object\n",
      " 1   title            2810 non-null   object\n",
      " 2   visit_count      2810 non-null   int64 \n",
      " 3   last_visit_time  2810 non-null   int64 \n",
      " 4   publishedAt      2810 non-null   object\n",
      " 5   description      2810 non-null   object\n",
      " 6   channelTitle     2810 non-null   object\n",
      " 7   channelId        2810 non-null   object\n",
      " 8   tags             2162 non-null   object\n",
      "dtypes: int64(2), object(7)\n",
      "memory usage: 197.7+ KB\n",
      "None\n"
     ]
    }
   ],
   "source": [
    "import pandas as pd\n",
    "from sklearn.feature_extraction.text import TfidfVectorizer\n",
    "from sklearn.decomposition import NMF\n",
    "\n",
    "# Load the data into a pandas DataFrame\n",
    "# data = pd.DataFrame({\n",
    "#     'title': ['Machine Learning for Beginners', 'The Future of Artificial Intelligence', 'Python for Data Analysis'],\n",
    "#     'article': ['In this article, we will explore the basics of machine learning...', 'As AI technology continues to advance, experts weigh in on the potential impact...', 'This book provides a comprehensive guide to using Python for data analysis.'],\n",
    "#     'author': ['John Doe', 'Jane Smith', 'Bob Johnson'],\n",
    "#     'tags': ['machine learning', 'artificial intelligence', 'python', 'data analysis']\n",
    "# })\n",
    "data = pd.read_json('./data/youtube_history.json')\n",
    "print(data.info())\n"
   ]
  },
  {
   "cell_type": "code",
   "execution_count": 4,
   "metadata": {},
   "outputs": [],
   "source": [
    "# Combine all the text features into a single column\n",
    "data['text'] = data['title'] + ' ' + data['tags'].apply(lambda x: ' '.join(map(str, x)) if isinstance(x, list) else '')"
   ]
  },
  {
   "cell_type": "code",
   "execution_count": 50,
   "metadata": {},
   "outputs": [
    {
     "name": "stdout",
     "output_type": "stream",
     "text": [
      "Topic[0] 83 matches: comic book cleaning cgc comics age books golden label pressing\n",
      "Topic[1] 70 matches: map fantasy cartography mountains making tutorial campaign tabletop mpa step\n",
      "Topic[2] 9 matches: osr review rpg school old book reviews questing classics beast\n",
      "Topic[3] 48 matches: dcs dogfight military war viper 22 raptor hornet air eagle\n",
      "Topic[4] 55 matches: ai claude openai artificial agent intelligence engineer llm chatgpt api\n",
      "Topic[5] 87 matches: book bookbinding binding library care adventures lessons collecting repair restoration\n",
      "Topic[6] 75 matches: dune villeneuve lore denis herbert frank movie fremen bene arrakis\n",
      "Topic[7] 32 matches: law lemon attorney lehtoslaw lehto www michigan http com steve\n",
      "Topic[8] 49 matches: software web developer engineer humor programmer engineering programming development design\n",
      "Topic[9] 24 matches: ansible semaphore devops rundeck training playbook tutorial inventory roles beginners\n",
      "Topic[10] 12 matches: dice tray vault craft dnd book collection acererak goblin tour\n",
      "Topic[11] 21 matches: wyrmwood table dice business critical role gaming tabletop wyrm lyfe\n",
      "Topic[12] 52 matches: paper age recycled make junk vintage papermaking old toilet crafts\n",
      "Topic[13] 50 matches: linux brodie robertson wayland ubuntu vs desktop distro kernel tech\n",
      "Topic[14] 42 matches: netflix hbo streaming hollywood movies entertainment gaming woke fitness planet\n",
      "Topic[15] 18 matches: skylines cities city plays gameplay planner start play highway layout\n",
      "Topic[16] 45 matches: drawing draw pencil tutorial fun mountains beginners graphite artist art\n",
      "Topic[17] 32 matches: adam savage tested day builds shop organization tool storage tools\n",
      "Topic[18] 39 matches: master dm dungeon screen game gm tips dungeons kit advice\n",
      "Topic[19] 15 matches: t3 stack theo t3dotgg gg typescript javascript programmer react programming\n",
      "Topic[20] 13 matches: mainframe rpg game dragons icrpg ferinale shieldwall hardsuit drunkens vds\n",
      "Topic[21] 16 matches: ukraine russia war russian update vs putin news conflict invasion\n",
      "Topic[22] 14 matches: paint painting hobby miniature tips citadel sparmax painter vallejo airbrush\n",
      "Topic[23] 26 matches: procreate tutorial tips beginners shading settings coloring lines inside color\n",
      "Topic[24] 12 matches: leather journal junk faux cover bag crafts notebook make journaling\n",
      "Topic[25] 46 matches: 2020 memes trump biden political joe nancy pelosi election democrats\n",
      "Topic[26] 29 matches: 3d printing printed printer print filament prusa rc glider prints\n",
      "Topic[27] 33 matches: writing write fantasy story advice novel authortube publish booktube publishing\n",
      "Topic[28] 21 matches: saw stone lathe nubs worksharp tormek stumpy bandsaw bowls lumber\n",
      "Topic[29] 21 matches: pathfinder 2e rules rpg lawyer edition session 2nd pf2 pf2e\n",
      "Topic[30] 38 matches: python scraping rss feed web api similarity rake nlp sentiment\n",
      "Topic[31] 22 matches: vfx cgi react effects artists breakdown visual shot bad scenes\n",
      "Topic[32] 16 matches: grade men number conserved silver cgc age building comic 17\n",
      "Topic[33] 17 matches: brace nysrpa atf pistol bruen supreme rule court ban armed\n",
      "Topic[34] 75 matches: dnd 5e tips ttrpg dragons campaign dungeons adventure running sandbox\n",
      "Topic[35] 28 matches: baby sweet woke suicide squad rebirth blade kill league justice\n",
      "Topic[36] 20 matches: books tome making epic unbinding destroyed reviving endbands enhancing prep\n",
      "Topic[37] 7 matches: coding code assistant cody rust chatgpt dev copilot programming prompt\n",
      "Topic[38] 38 matches: earth middle tolkien rings lord ring hobbit lotr sauron silmarillion\n",
      "Topic[39] 12 matches: colored pencils pencil coloring adult prismacolor blending crayola cheap kalour\n",
      "Topic[40] 17 matches: agents ai crewai crew autonomous autogen agent tutorial step stock\n",
      "Topic[41] 37 matches: history veteran tactics strategy war reaction combat army react 300\n",
      "Topic[42] 25 matches: ollama llama local llm locally run mistral language large installing\n",
      "Topic[43] 16 matches: good day harsh forrest reality frank software jake audio gonna\n",
      "Topic[44] 13 matches: ipad apps apple note taking pencil productivity pro best goodnotes\n",
      "Topic[45] 9 matches: freight harbor tools coupons january 2024 tool coupon things sale\n",
      "Topic[46] 18 matches: pitch meeting ryan george jurassic screen rant revisited barely inconvenience\n",
      "Topic[47] 14 matches: maps fantasy mountains wasd20 rpg forests cartography trees regional depth\n",
      "Topic[48] 13 matches: painting art conservation restoration asmr fine scraping oil julian baumgartner\n",
      "Topic[49] 37 matches: world building worldbuilding geography campaign chicago write setting jurassic way\n",
      "Topic[50] 29 matches: news twitch tech feed movie hoping curated yellowflash created using\n",
      "Topic[51] 34 matches: habitual linecrosser geopolitics buff houthi yemen iran infomercial patriot did\n",
      "Topic[52] 18 matches: guide 5e builder bob player play twitter ultimate dungeon master\n",
      "Topic[53] 21 matches: table epoxy woodworking resin river waterfall coffee malecki slab john\n",
      "Topic[54] 21 matches: art travel kit supplies bag sketching anatomy artist lesson sketchbook\n",
      "Topic[55] 19 matches: casting leaf conservation jitterbug jerry golden mache weatherproof fun watching\n",
      "Topic[56] 95 matches: video music official rock 90s donnas lyrics crazy coming essay\n",
      "Topic[57] 14 matches: just got haley nikki exposed chicago situation bad storytelling essential\n",
      "Topic[58] 33 matches: home smart assistant automation sensor nixos montaque depot node red\n",
      "Topic[59] 37 matches: science technology computers hardware windows 11 syndicate tek retro os\n",
      "Topic[60] 10 matches: open source free devika platform llm alternative software database automation\n",
      "Topic[61] 7 matches: deals hot week dotdotw 24 01 tool tools 29 15\n",
      "Topic[62] 11 matches: terrain modular tabletop make crafting foam mortalis zone craft tiles\n",
      "Topic[63] 12 matches: comics comic marvel cgc dc speculation key 10 mcu hot\n",
      "Topic[64] 19 matches: pen ink draw visual white drawings dip inking form mountains\n",
      "Topic[65] 35 matches: best drinker feminism feminist critical funny review disney marvel mcu\n",
      "Topic[66] 1 matches: emperor leto lore god explained dune fiction secret ii science\n",
      "Topic[67] 8 matches: dragons dungeons edition 4e tour ad ttrpg dragonlance notebook fixed\n",
      "Topic[68] 12 matches: shadowdark design rpg ttrpg worldbuilding adventure homebrew ui play building\n",
      "Topic[69] 20 matches: desk setup ultimate gaming standing lights dream room tour furniture\n",
      "Topic[70] 9 matches: webdev lesson app development tutorial 100 seconds firebase algorithms 10\n",
      "Topic[71] 10 matches: character journal roleplaying advice sheet need tips make dm barbarian\n",
      "Topic[72] 30 matches: server discord proxmox make docker passthrough homelab improve secure plex\n",
      "Topic[73] 39 matches: time space interview physics best black matt dark relativity pbs\n",
      "Topic[74] 16 matches: meme memes air 10 compilation navy marines military force horror\n",
      "Topic[75] 16 matches: crazy ross challenge weird adobe newgrounds jazza jazzastudios brooks josiah\n",
      "Topic[76] 15 matches: star wars disney acolyte vader hasbro mandalorian infantilized wampa darth\n",
      "Topic[77] 23 matches: langchain gpt llms chatgpt prompt openai chatbot episode hero zero\n",
      "Topic[78] 20 matches: anime cyberpunk explored 45 panic 01 moments madox metal retro\n",
      "Topic[79] 12 matches: meshtastic range long getting comms happened lora grid ultimate started\n",
      "Topic[80] 16 matches: willis fani career worst oath admits trouble big wade nathan\n",
      "Topic[81] 14 matches: step build plot let academy minecraft tutorial dm agent teams\n",
      "Topic[82] 28 matches: new heat fades dawn ministry real estate planet trailer russian\n",
      "Topic[83] 35 matches: don donut operator want gun cop spend people shooter exactly\n",
      "Topic[84] 22 matches: warhammer 40k painting lore horus space miniature miniatures workshop marines\n",
      "Topic[85] 25 matches: model scale railroad diorama scenery trains realistic building train language\n",
      "Topic[86] 39 matches: actually lol believe helpful real happening making crap holy released\n",
      "Topic[87] 29 matches: old school osr combat essentials ose basic pillars powerful sorcery\n",
      "Topic[88] 20 matches: china taiwan corruption xi youtube military jinping uncensored ccp quitting\n",
      "Topic[89] 49 matches: cybersecurity hacking cyber security learn hack computer testing malware career\n",
      "Topic[90] 19 matches: gate dragon baldurs baldur stargate hat lore sorcerer twist dragons\n",
      "Topic[91] 15 matches: unity procedural ecs job tutorial planet dots generation unity3d fee\n",
      "Topic[92] 21 matches: copilot wazuh opensource elasticsearch tool cybersecurity security infosec iris dfir\n",
      "Topic[93] 56 matches: diy box crafts harry potter screen make wand covers magic\n",
      "Topic[94] 33 matches: peroxide light uv cleaning comic photobleaching pressing whitening experiments fantastic\n",
      "Topic[95] 51 matches: games solo game gaming rpg tabletop roleplaying board play white\n",
      "Topic[96] 24 matches: tv eddie murphy genre snl night game category saturday mountain\n",
      "Topic[97] 36 matches: cnc router building machine plasma cutter cut dog shop engineering\n",
      "Topic[98] 18 matches: inn holiday express commercial funny mark medina surgeon dojo joey\n",
      "Topic[99] 53 matches: crane repair australia boom franna lathe boring line cylinder big\n",
      "\n",
      "Unmatched Rows: 0\n"
     ]
    }
   ],
   "source": [
    "# Create a TF-IDF matrix\n",
    "vectorizer = TfidfVectorizer(stop_words='english')\n",
    "X = vectorizer.fit_transform(data['text'])\n",
    "\n",
    "topic_count = 100\n",
    "\n",
    "# Use Non-negative Matrix Factorization (NMF) to extract topics\n",
    "nmf = NMF(n_components=topic_count, random_state=42)\n",
    "W = nmf.fit_transform(X)\n",
    "H = nmf.components_\n",
    "\n",
    "# Get the topic assignments for each row\n",
    "topic_assignments = W.argmax(axis=1)\n",
    "\n",
    "# Count the number of rows matched to each topic\n",
    "topic_counts = [sum(topic_assignments == i) for i in range(topic_count)]\n",
    "\n",
    "# Count the number of rows not matched to any topic\n",
    "unmatched_count = sum(topic_assignments == -1)\n",
    "\n",
    "# Print the top words for each topic\n",
    "feature_names = vectorizer.get_feature_names_out()\n",
    "for topic_idx, topic in enumerate(H):\n",
    "    topic_words = \" \".join([feature_names[i] for i in topic.argsort()[:-11:-1]])\n",
    "    print(f\"Topic[{topic_idx}] {topic_counts[topic_idx]} matches: {topic_words}\")\n",
    "print(f\"\\nUnmatched Rows: {unmatched_count}\")\n"
   ]
  },
  {
   "cell_type": "code",
   "execution_count": 51,
   "metadata": {},
   "outputs": [],
   "source": [
    "from sklearn.decomposition import NMF\n",
    "\n",
    "# Try different numbers of topics\n",
    "topic_nums = range(80, 150)\n",
    "reconstruction_errors = []\n",
    "\n",
    "for n_topics in topic_nums:\n",
    "    nmf = NMF(n_components=n_topics, random_state=42,)\n",
    "    W = nmf.fit_transform(X)\n",
    "    reconstruction_errors.append(nmf.reconstruction_err_)\n",
    "\n",
    "import matplotlib.pyplot as plt\n",
    "plt.plot(topic_nums, reconstruction_errors)\n",
    "plt.xlabel(\"Number of topics\")\n",
    "plt.ylabel(\"Reconstruction error\")\n",
    "plt.show()"
   ]
  },
  {
   "cell_type": "code",
   "execution_count": null,
   "metadata": {},
   "outputs": [],
   "source": [
    "! pip install astrop"
   ]
  },
  {
   "cell_type": "code",
   "execution_count": null,
   "metadata": {},
   "outputs": [],
   "source": [
    "from astropy.stats import akaike_info_criterion, bayesian_info_criterion\n",
    "\n",
    "# Try different numbers of topics\n",
    "aic_scores = []\n",
    "bic_scores = []\n",
    "\n",
    "for n_topics in topic_nums:\n",
    "    nmf = NMF(n_components=n_topics, random_state=42)\n",
    "    W = nmf.fit_transform(X.toarray())\n",
    "    aic_scores.append(akaike_info_criterion(W, n_topics, X.shape[1])) \n",
    "    bic_scores.append(bayesian_info_criterion(W, n_topics, X.shape[1]))\n",
    "\n",
    "plt.figure(figsize=(12, 6))\n",
    "plt.subplot(1, 2, 1)\n",
    "plt.plot(topic_nums, aic_scores)\n",
    "plt.xlabel(\"Number of topics\")\n",
    "plt.ylabel(\"AIC score\")\n",
    "plt.subplot(1, 2, 2)\n",
    "plt.plot(topic_nums, bic_scores)\n",
    "plt.xlabel(\"Number of topics\")\n",
    "plt.ylabel(\"BIC score\")\n",
    "plt.show()"
   ]
  },
  {
   "cell_type": "code",
   "execution_count": 41,
   "metadata": {},
   "outputs": [
    {
     "name": "stderr",
     "output_type": "stream",
     "text": [
      "[nltk_data] Downloading package punkt to /home/anvil/nltk_data...\n",
      "[nltk_data]   Package punkt is already up-to-date!\n"
     ]
    },
    {
     "data": {
      "image/png": "[encoded data removed]",
      "text/plain": [
       "<Figure size 640x480 with 1 Axes>"
      ]
     },
     "metadata": {},
     "output_type": "display_data"
    }
   ],
   "source": [
    "from gensim.models.coherencemodel import CoherenceModel\n",
    "from gensim.corpora.dictionary import Dictionary\n",
    "from nltk.tokenize import word_tokenize\n",
    "import nltk\n",
    "nltk.download('punkt')\n",
    "\n",
    "data['tokens'] = data['text'].apply(word_tokenize)\n",
    "\n",
    "# Create a dictionary from the tokenized text\n",
    "dictionary = Dictionary(data['tokens'].tolist())\n",
    "\n",
    "coherence_scores = []\n",
    "\n",
    "for n_topics in topic_nums:\n",
    "    nmf = NMF(n_components=n_topics, random_state=42)\n",
    "    W = nmf.fit_transform(X)\n",
    "    coherence_model = CoherenceModel(topics=H, texts=data['text'], dictionary=dictionary, coherence='c_v')\n",
    "    coherence_scores.append(coherence_model.get_coherence())\n",
    "\n",
    "plt.plot(topic_nums, coherence_scores)\n",
    "plt.xlabel(\"Number of topics\")\n",
    "plt.ylabel(\"Coherence score\")\n",
    "plt.show()"
   ]
  },
  {
   "cell_type": "code",
   "execution_count": 11,
   "metadata": {},
   "outputs": [
    {
     "name": "stdout",
     "output_type": "stream",
     "text": [
      "\n",
      "User's preferred topics:\n",
      "Topic 2: dnd rpg dragons dungeons dm the and dice to master\n",
      "Topic 3: dcs dogfight military war world viper raptor 22 air hornet\n",
      "Topic 4: ai software web agents engineer engineering development programming crewai agent\n"
     ]
    }
   ],
   "source": [
    "# Determine the user's preferred topics\n",
    "user_topic_prefs = W[0].argsort()[-3:]\n",
    "\n",
    "print(\"\\nUser's preferred topics:\")\n",
    "for topic_idx in user_topic_prefs:\n",
    "    print(f\"Topic {topic_idx}: {' '.join([feature_names[i] for i in H[topic_idx].argsort()[:-11:-1]])}\")"
   ]
  }
 ],
 "metadata": {
  "kernelspec": {
   "display_name": "Python 3",
   "language": "python",
   "name": "python3"
  },
  "language_info": {
   "codemirror_mode": {
    "name": "ipython",
    "version": 3
   },
   "file_extension": ".py",
   "mimetype": "text/x-python",
   "name": "python",
   "nbconvert_exporter": "python",
   "pygments_lexer": "ipython3",
   "version": "3.12.2"
  }
 },
 "nbformat": 4,
 "nbformat_minor": 2
}
