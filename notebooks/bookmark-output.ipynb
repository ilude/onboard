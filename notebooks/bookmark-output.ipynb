{
 "cells": [
  {
   "cell_type": "code",
   "execution_count": null,
   "metadata": {
    "metadata": {}
   },
   "outputs": [],
   "source": [
    "import json\n",
    "\n",
    "def process_bookmarks(bookmarks, indent=''):\n",
    "  for bookmark in bookmarks:\n",
    "    print(indent + bookmark['name'])\n",
    "    if 'contents' in bookmark:\n",
    "      process_bookmarks(bookmark['contents'], indent + '  ')\n",
    "\n",
    "      \n",
    "\n",
    "with open('data/bookmarks_bar.json', 'r', encoding='utf-8') as f:\n",
    "    bookmarks = json.load(f)\n",
    "\n",
    "process_bookmarks(bookmarks)"
   ]
  },
  {
   "cell_type": "code",
   "execution_count": 3,
   "metadata": {},
   "outputs": [],
   "source": [
    "import os\n",
    "from PIL import Image\n",
    "\n",
    "def is_image(file_path):\n",
    "    try:\n",
    "        img = Image.open(file_path)\n",
    "        img.close()\n",
    "        return True\n",
    "    except Exception as e:\n",
    "        return False\n",
    "\n",
    "def check_directory(directory):\n",
    "    for file_name in os.listdir(directory):\n",
    "        file_path = os.path.join(directory, file_name)\n",
    "        if os.path.isfile(file_path) and file_path.endswith('.ico'):\n",
    "            if not is_image(file_path):\n",
    "                print(f\"{file_name} is not an image file. Deleting...\")\n",
    "                os.remove(file_path)\n",
    "\n",
    "directory_path = \"../app/static/assets/icons\"\n",
    "check_directory(directory_path)\n",
    "print (\"Cleanup completed!\")"
   ]
  },
  {
   "cell_type": "code",
   "execution_count": 15,
   "metadata": {},
   "outputs": [
    {
     "name": "stdout",
     "output_type": "stream",
     "text": [
      "True\n",
      "True\n",
      "False\n"
     ]
    }
   ],
   "source": [
    "import re\n",
    "\n",
    "def is_ip_address(url):\n",
    "    ip_pattern = re.compile(\n",
    "        r\"^(?:(?:https?://)?(?:25[0-5]|2[0-4][0-9]|[01]?[0-9][0-9]?)\\.){3}\"\n",
    "        r\"(?:25[0-5]|2[0-4][0-9]|[01]?[0-9][0-9]?)(?::\\d{1,5})?(?:\\/)?$\"\n",
    "    )\n",
    "    return bool(ip_pattern.match(url))\n",
    "\n",
    "# Example usage:\n",
    "url1 = \"192.168.1.1\"\n",
    "url2 = \"http://192.168.16.208:7860/\"\n",
    "print(is_ip_address(url1))  # Output: True\n",
    "print(is_ip_address(url2))  # Output: True\n",
    "print(is_ip_address('https://example.com'))  # Output: False"
   ]
  },
  {
   "cell_type": "code",
   "execution_count": null,
   "metadata": {},
   "outputs": [],
   "source": [
    "import requests\n",
    "\n",
    "def check_content_type_starts_with_image(domain):\n",
    "    url = f'http://www.google.com/s2/favicons?domain={domain}'\n",
    "    response = requests.get(url)\n",
    "    \n",
    "    if response.status_code == 200:\n",
    "        content_type = response.headers.get('Content-Type', '')\n",
    "        if content_type.startswith('image'):\n",
    "            return True\n",
    "        else:\n",
    "            return False\n",
    "    else:\n",
    "        print(f\"Failed to fetch URL: {url}\")\n",
    "        return False\n",
    "\n",
    "# Example usage:\n",
    "domain = \"amazon.com\"\n",
    "print(check_content_type_starts_with_image(domain))\n"
   ]
  },
  {
   "cell_type": "code",
   "execution_count": 12,
   "metadata": {},
   "outputs": [
    {
     "name": "stdout",
     "output_type": "stream",
     "text": [
      "http://www.google.com/s2/favicons?domain=https://www.amazon.com\n"
     ]
    }
   ],
   "source": [
    "from urllib.parse import urljoin, urlparse\n",
    "from bs4 import BeautifulSoup\n",
    "import requests\n",
    "\n",
    "def get_base( url):\n",
    "    parsed_url = urlparse(url)\n",
    "    base_url = f\"{parsed_url.scheme}://{parsed_url.netloc}\"\n",
    "    return base_url\n",
    "\n",
    "\n",
    "def find_favicon_url(url):\n",
    "    try:\n",
    "      headers = {'User-Agent': 'Mozilla/5.0 (Windows NT 10.0; Win64; x64) AppleWebKit/537.36 (KHTML, like Gecko) Chrome/124.0.0.0 Safari/537.36'}\n",
    "      response = requests.get(url, headers=headers)\n",
    "      if response.status_code == 200:\n",
    "        soup = BeautifulSoup(response.text, 'html.parser')\n",
    "        icon_link = soup.find('link', rel=['icon', 'shortcut icon'])\n",
    "        if icon_link:\n",
    "          icon_url = icon_link['href']\n",
    "          if not icon_url.startswith('http'):\n",
    "            icon_url = urljoin(url, icon_url)\n",
    "          return icon_url\n",
    "        else:\n",
    "          domain = get_base(url)\n",
    "          response = requests.get(f'http://www.google.com/s2/favicons?domain={domain}', headers=headers)\n",
    "          if response.status_code == 200 and response.headers.get('Content-Type', '').startswith('image'):\n",
    "            return f'http://www.google.com/s2/favicons?domain={domain}'\n",
    "          return None\n",
    "      else:\n",
    "        return None\n",
    "    except Exception as ex:\n",
    "      print(f'Error finding favicon with url: {url}: {ex}')\n",
    "\n",
    "print(find_favicon_url('https://www.amazon.com/'))"
   ]
  }
 ],
 "metadata": {
  "kernelspec": {
   "display_name": "Python 3",
   "language": "python",
   "name": "python3"
  },
  "language_info": {
   "codemirror_mode": {
    "name": "ipython",
    "version": 3
   },
   "file_extension": ".py",
   "mimetype": "text/x-python",
   "name": "python",
   "nbconvert_exporter": "python",
   "pygments_lexer": "ipython3",
   "version": "3.12.3"
  }
 },
 "nbformat": 4,
 "nbformat_minor": 2
}
