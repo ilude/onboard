{
 "cells": [
  {
   "cell_type": "code",
   "execution_count": 1,
   "metadata": {},
   "outputs": [],
   "source": [
    "import sys\n",
    "\n",
    "sys.path.append('../app')\n",
    "from models.layout import Layout"
   ]
  },
  {
   "cell_type": "code",
   "execution_count": 2,
   "metadata": {},
   "outputs": [],
   "source": [
    "layout = Layout.load('../app/defaults/layout.yml')"
   ]
  },
  {
   "cell_type": "code",
   "execution_count": null,
   "metadata": {},
   "outputs": [],
   "source": []
  },
  {
   "cell_type": "code",
   "execution_count": 3,
   "metadata": {},
   "outputs": [
    {
     "name": "stdout",
     "output_type": "stream",
     "text": [
      "\n",
      "Lawrence Person's BattleSwarm Blog - feed\n",
      "Cafe Hayek - feed\n",
      "Slashdot - feed\n",
      "Shopping - bookmarks\n",
      "AI - bookmarks\n",
      "Bookmarks - bookmarks\n",
      "Real Clear Politics - feed\n",
      "Instapundit - feed\n",
      "Twitchy - feed\n"
     ]
    }
   ],
   "source": [
    "tab = layout.tab('Home')\n",
    "print(f\"{tab.name}\")  \n",
    "for row in tab.rows:\n",
    "\tfor column in row.columns:\n",
    "\t\tfor widget in column.widgets:\n",
    "\t\t\tprint(f\"{widget.name} - {widget.type}\")\n",
    "\n"
   ]
  }
 ],
 "metadata": {
  "kernelspec": {
   "display_name": "Python 3",
   "language": "python",
   "name": "python3"
  },
  "language_info": {
   "codemirror_mode": {
    "name": "ipython",
    "version": 3
   },
   "file_extension": ".py",
   "mimetype": "text/x-python",
   "name": "python",
   "nbconvert_exporter": "python",
   "pygments_lexer": "ipython3",
   "version": "3.12.3"
  }
 },
 "nbformat": 4,
 "nbformat_minor": 2
}
