{
 "cells": [
  {
   "cell_type": "code",
   "execution_count": 1,
   "metadata": {},
   "outputs": [
    {
     "name": "stdout",
     "output_type": "stream",
     "text": [
      "Defaulting to user installation because normal site-packages is not writeable\n",
      "Collecting pysqlite3\n",
      "  Using cached pysqlite3-0.5.2.tar.gz (40 kB)\n",
      "  Preparing metadata (setup.py) ... \u001b[?25ldone\n",
      "\u001b[?25hBuilding wheels for collected packages: pysqlite3\n",
      "  Building wheel for pysqlite3 (setup.py) ... \u001b[?25ldone\n",
      "\u001b[?25h  Created wheel for pysqlite3: filename=pysqlite3-0.5.2-cp312-cp312-linux_x86_64.whl size=168069 sha256=e64bd34d91b91617e4aa91ef31ff133c3c5f873b8d89537cc7b31886fc5bd08b\n",
      "  Stored in directory: /home/anvil/.cache/pip/wheels/8e/74/94/b439e432c5dac1fa80bd4c6fc443aaaa7370606785abbf1590\n",
      "Successfully built pysqlite3\n",
      "Installing collected packages: pysqlite3\n",
      "Successfully installed pysqlite3-0.5.2\n"
     ]
    }
   ],
   "source": [
    "! pip install pysqlite3 \n"
   ]
  },
  {
   "cell_type": "code",
   "execution_count": 2,
   "metadata": {},
   "outputs": [],
   "source": [
    "import sqlite3\n",
    "import json\n",
    "\n",
    "# Path to the Brave browser's history database\n",
    "history_db = './data/History'\n",
    "\n",
    "# Connect to the SQLite database\n",
    "conn = sqlite3.connect(history_db)\n",
    "c = conn.cursor()\n",
    "\n",
    "# Query to fetch browsing history\n",
    "query = \"SELECT url, title, visit_count, last_visit_time FROM urls ORDER BY last_visit_time DESC\"\n",
    "c.execute(query)\n",
    "results = c.fetchall()\n",
    "\n",
    "# Export to JSON\n",
    "with open('./data/brave_history.json', 'w', encoding='utf-8') as f:\n",
    "    history = [{'url': row[0], 'title': row[1], 'visit_count': row[2], 'last_visit_time': row[3]} for row in results]\n",
    "    json.dump(history, f, ensure_ascii=False, indent=4)"
   ]
  },
  {
   "cell_type": "code",
   "execution_count": 3,
   "metadata": {},
   "outputs": [],
   "source": [
    "import json\n",
    "import requests\n",
    "from urllib.parse import parse_qs, urlparse\n",
    "\n",
    "# Load the JSON file\n",
    "with open('./data/brave_history.json', 'r', encoding='utf-8') as f:\n",
    "    history = json.load(f)\n",
    "\n",
    "# Function to fetch video title and transcript URL\n",
    "def get_video_info(video_url):\n",
    "    video_id = parse_qs(urlparse(video_url).query)['v'][0]\n",
    "    api_url = f\"https://www.youtube.com/get_video_info?video_id={video_id}\"\n",
    "    response = requests.get(api_url)\n",
    "    data = parse_qs(response.text)\n",
    "\n",
    "    title = data.get('title', ['No video title'])[0]\n",
    "    transcript_url = f\"https://www.youtube.com/api/timedtext?v={video_id}&lang=en\"\n",
    "\n",
    "    return title, transcript_url\n",
    "\n",
    "# Iterate through the history and process YouTube URLs\n",
    "youtube_history = []\n",
    "for entry in history:\n",
    "    url = entry['url']\n",
    "    if 'youtube.com/watch' in url:\n",
    "        try:\n",
    "            title, transcript_url = get_video_info(url)\n",
    "            entry['title'] = title\n",
    "            entry['transcript_url'] = transcript_url\n",
    "            youtube_history.append(entry)\n",
    "        except Exception as e:\n",
    "            print(f\"Error processing URL: {url}\")\n",
    "            print(e)\n",
    "\n",
    "# Save the modified entries to a new file\n",
    "with open('./data/youtube_history.json', 'w', encoding='utf-8') as f:\n",
    "    json.dump(youtube_history, f, ensure_ascii=False, indent=4)"
   ]
  },
  {
   "cell_type": "code",
   "execution_count": 6,
   "metadata": {},
   "outputs": [
    {
     "name": "stdout",
     "output_type": "stream",
     "text": [
      "http://gdata.youtube.com/feeds/api/videos/LKiBlGDfRU8?alt=json&v=2\n"
     ]
    }
   ],
   "source": [
    "video_id = \"LKiBlGDfRU8\"\n",
    "url = f\"http://gdata.youtube.com/feeds/api/videos/{video_id}?alt=json&v=2\"\n",
    "print(url)"
   ]
  },
  {
   "cell_type": "code",
   "execution_count": 8,
   "metadata": {},
   "outputs": [],
   "source": [
    "import dotenv\n",
    "import os\n",
    "\n",
    "dotenv.load_dotenv()\n",
    "google_api_key = os.getenv('GOOGLE_API_KEY')"
   ]
  },
  {
   "cell_type": "code",
   "execution_count": 17,
   "metadata": {},
   "outputs": [
    {
     "name": "stdout",
     "output_type": "stream",
     "text": [
      "{'publishedAt': '2024-04-05T15:00:30Z', 'channelId': 'UC1yNl2E66ZzKApQdRuTQ4tw', 'title': \"My dream died, and now I'm here\", 'description': 'This is my contribution to bring the \"you\" back into YouTube #uinutube\\n\\nYou can support me on Patreon ➜ https://www.patreon.com/Sabine', 'thumbnails': {'default': {'url': 'https://i.ytimg.com/vi/LKiBlGDfRU8/default.jpg', 'width': 120, 'height': 90}, 'medium': {'url': 'https://i.ytimg.com/vi/LKiBlGDfRU8/mqdefault.jpg', 'width': 320, 'height': 180}, 'high': {'url': 'https://i.ytimg.com/vi/LKiBlGDfRU8/hqdefault.jpg', 'width': 480, 'height': 360}, 'standard': {'url': 'https://i.ytimg.com/vi/LKiBlGDfRU8/sddefault.jpg', 'width': 640, 'height': 480}, 'maxres': {'url': 'https://i.ytimg.com/vi/LKiBlGDfRU8/maxresdefault.jpg', 'width': 1280, 'height': 720}}, 'channelTitle': 'Sabine Hossenfelder', 'tags': ['science without the gobbledygoook', 'hossenfelder', 'academia', 'academia is broken', 'academia problems', 'academia crisis', 'science', 'science problems', 'physics', 'physics problems', 'sabine hossenfelder', 'fail', 'UINUTUBE', 'uinutube', 'the you in YouTube', 'youtube', 'you in youtube', 'youtube creators'], 'categoryId': '28', 'liveBroadcastContent': 'none', 'defaultLanguage': 'en', 'localized': {'title': \"My dream died, and now I'm here\", 'description': 'This is my contribution to bring the \"you\" back into YouTube #uinutube\\n\\nYou can support me on Patreon ➜ https://www.patreon.com/Sabine'}, 'defaultAudioLanguage': 'en'}\n",
      "Title: My dream died, and now I'm here\n"
     ]
    }
   ],
   "source": [
    "import requests\n",
    "\n",
    "url = \"https://www.googleapis.com/youtube/v3/videos?part=snippet&id={video_id}&key={google_api_key}\"\n",
    "r = requests.get(url.format(video_id=video_id, google_api_key=google_api_key))\n",
    "json = r.json()\n",
    "#print(json)\n",
    "snippet = json['items'][0]['snippet']\n",
    "print(snippet)\n",
    "print(f\"Title: {snippet['title']}\")"
   ]
  },
  {
   "cell_type": "code",
   "execution_count": null,
   "metadata": {},
   "outputs": [],
   "source": []
  }
 ],
 "metadata": {
  "kernelspec": {
   "display_name": "Python 3",
   "language": "python",
   "name": "python3"
  },
  "language_info": {
   "codemirror_mode": {
    "name": "ipython",
    "version": 3
   },
   "file_extension": ".py",
   "mimetype": "text/x-python",
   "name": "python",
   "nbconvert_exporter": "python",
   "pygments_lexer": "ipython3",
   "version": "3.12.2"
  }
 },
 "nbformat": 4,
 "nbformat_minor": 2
}
