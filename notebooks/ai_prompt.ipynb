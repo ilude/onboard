{
 "cells": [
  {
   "cell_type": "code",
   "execution_count": 12,
   "metadata": {},
   "outputs": [],
   "source": [
    "import os\n",
    "import json\n",
    "from langchain_community.llms import Ollama\n",
    "from langchain.prompts import ChatPromptTemplate, PromptTemplate, HumanMessagePromptTemplate\n",
    "from langchain_core.messages import SystemMessage, HumanMessage\n",
    "from langchain.output_parsers import ResponseSchema, StructuredOutputParser"
   ]
  },
  {
   "cell_type": "code",
   "execution_count": 20,
   "metadata": {},
   "outputs": [],
   "source": [
    "items = [\n",
    "{'title': 'OPEN THREAD:  Just do it.', 'summary': 'OPEN THREAD: Just do it. #OpenThread #OpenAI'},\n",
    "{'title': 'THIS PARAGRAPH CAPTURES THE ESSENCE OF THE ATLANTIC’S SAD PIECE ON THE WORLD’S BIGGEST CRUISE SHIP:', 'summary': 'THIS PARAGRAPH CAPTURES THE ESSENCE OF THE ATLANTIC&#8217;S SAD PIECE ON THE WORLD&#8217;S BIGGEST CRUISE SHIP: &#8220;A real journalist or a more intrepid conversationalist would have gone up to the couple and asked them to explain the longevity of their marriage vis-à-vis their love of cruising. But instead I head to my mall suite, take [&#8230;]'},\n",
    "{'title': 'THE NEW SPACE RACE:  China launches first of a new series of Yaogan reconnaissance satellites.', 'summary': 'THE NEW SPACE RACE: China launches first of a new series of Yaogan reconnaissance satellites.'},\n",
    "{'title': 'WHY IS THE BIDEN ADMINISTRATION TRYING SO HARD TO KEEP HAMAS FROM LOSING?  Biden Calls for Ceasefire', 'summary': 'WHY IS THE BIDEN ADMINISTRATION TRYING SO HARD TO KEEP HAMAS FROM LOSING? Biden Calls for Ceasefire During Phone Call with Netanyahu.'},\n",
    "{'title': 'BOOK RECOMMENDATION:  So I just finished up The Naval Odyssey of Prof. James Brand, so far as it goe', 'summary': 'BOOK RECOMMENDATION: So I just finished up The Naval Odyssey of Prof. James Brand, so far as it goes to date, and quite enjoyed it. It&#8217;s a World War II series with plenty of action, but its central character is Prof. James Brand, a wunderkind physicist/operations analyst who zips around solving problems with everything from [&#8230;]'},\n",
    "{'title': 'TUNED MASS DAMPERS FOR THE WIN:  How a steel ball protected Taiwan’s tallest skyscraper in an eart', 'summary': 'TUNED MASS DAMPERS FOR THE WIN: How a steel ball protected Taiwan’s tallest skyscraper in an earthquake.'},\n",
    "{'title': 'SCIENCE:  Thinking You Look Younger Has A Curious Link to How You Age.', 'summary': 'SCIENCE: Thinking You Look Younger Has A Curious Link to How You Age.'},\n",
    "{'title': 'ATTEMPT NO LANDINGS THERE:  Jupiter’s Moon Europa Beckons As NASA’s Clipper Prepares for the Unk', 'summary': 'ATTEMPT NO LANDINGS THERE: Jupiter’s Moon Europa Beckons As NASA’s Clipper Prepares for the Unknown.'},\n",
    "{'title': 'FLASHBACK:  Time for Consequences:  The “Cabal” who bragged about rigging the 2020 election stuck us', 'summary': 'FLASHBACK: Time for Consequences: The &#8220;Cabal&#8221; who bragged about rigging the 2020 election stuck us with an incapable president at a time of crisis. Examples need to be made.'},\n",
    "{'title': 'MICROBIOME NEWS:  Gut microbes may influence odds for obesity.', 'summary': 'MICROBIOME NEWS: Gut microbes may influence odds for obesity.'},\n",
    "]"
   ]
  },
  {
   "cell_type": "code",
   "execution_count": 28,
   "metadata": {},
   "outputs": [],
   "source": [
    "ollama_url = os.getenv('OLLAMA_URL')\n",
    "model_name = \"llama3:8b-instruct-q5_0\"\n",
    "#model_name = \"dolphin-mistral\"\n",
    "model = Ollama(base_url=ollama_url, model=model_name, keep_alive=5,verbose=True, temperature=8)"
   ]
  },
  {
   "cell_type": "code",
   "execution_count": 29,
   "metadata": {},
   "outputs": [],
   "source": [
    "parser = StructuredOutputParser.from_response_schemas(\n",
    "  [ResponseSchema(name=\"title\", description=\"title of the article\")]\n",
    ")\n",
    "\n",
    "prompt = PromptTemplate(\n",
    "\ttemplate=\"{data}\\n{format_instructions}\\n\",\n",
    "\tinput_variables=[\"data\"],\n",
    "\tpartial_variables={\"format_instructions\": parser.get_format_instructions()},\n",
    ")\n",
    "\n",
    "# format chat prompt\n",
    "system_prompt = SystemMessage(content=(\"\"\"\n",
    "\tYou are an expert news article title editor.\n",
    "  Use the provided title and summary to write an accurate title that is concise, informative and avoids sounding like clickbait. \n",
    "\tDo not include links or urls in the title.\n",
    "\tDo not replace hashtags, place any hashtags in the title at the end of the new title.\n",
    "\tTitle should be as short as possible, aim to be less that 70 characters long.\n",
    "\tTitle should have an absolute minimum of punctuation and use at most one all capitalized word at the start of the title.\n",
    "\t\"\"\"))\n",
    "user_prompt = HumanMessagePromptTemplate(prompt=prompt)\n",
    "\n",
    "chat_prompt = ChatPromptTemplate.from_messages([system_prompt, user_prompt])\n",
    "chain = chat_prompt | model | parser"
   ]
  },
  {
   "cell_type": "code",
   "execution_count": 30,
   "metadata": {},
   "outputs": [
    {
     "name": "stdout",
     "output_type": "stream",
     "text": [
      " 1: Open Thread: Take Action\n",
      " 2: Cruise Ship's Biggest Mystery: A Couple's Enduring Marriage\n",
      " 3: China Launches First Yaogan Reconnaissance Satellite in New Series\n",
      " 4: Biden Calls for Ceasefire Amid Gaza Tensions\n",
      " 5: Book Review: The Naval Odyssey of Prof. James Brand\n",
      " 6: Steel Ball Saves Taiwan's Tallest Skyscraper in Earthquake\n",
      " 7: Perception of Youthfulness Linked to Biological Aging\n",
      " 8: NASA's Clipper Prepares for Europa Mission: A Journey to the Unknown\n",
      " 9: Rigging the Election: Consequences Loom for Bragging Cabal\n",
      "10: Gut Microbes May Influence Obesity Risk\n"
     ]
    }
   ],
   "source": [
    "data = []\n",
    "for item in items:\n",
    "  data.append({\"data\": json.dumps(item)})\n",
    "\n",
    "rows = chain.batch(data, max_concurrency=len(data), )\n",
    "\n",
    "index = 1\n",
    "for row in rows:\n",
    "  print(f\"{index:2d}: {row['title']}\")\n",
    "  index += 1\n"
   ]
  }
 ],
 "metadata": {
  "kernelspec": {
   "display_name": "Python 3",
   "language": "python",
   "name": "python3"
  },
  "language_info": {
   "codemirror_mode": {
    "name": "ipython",
    "version": 3
   },
   "file_extension": ".py",
   "mimetype": "text/x-python",
   "name": "python",
   "nbconvert_exporter": "python",
   "pygments_lexer": "ipython3",
   "version": "3.12.3"
  }
 },
 "nbformat": 4,
 "nbformat_minor": 2
}
