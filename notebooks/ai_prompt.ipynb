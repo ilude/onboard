{
 "cells": [
  {
   "cell_type": "code",
   "execution_count": 1,
   "metadata": {},
   "outputs": [],
   "source": [
    "import os\n",
    "from langchain_community.llms import Ollama\n",
    "from langchain.prompts import ChatPromptTemplate, PromptTemplate, HumanMessagePromptTemplate\n",
    "from langchain_core.messages import SystemMessage, HumanMessage\n",
    "from langchain.output_parsers import ResponseSchema, StructuredOutputParser"
   ]
  },
  {
   "cell_type": "code",
   "execution_count": 2,
   "metadata": {},
   "outputs": [],
   "source": [
    "ollama_url = os.getenv('OLLAMA_URL')\n",
    "model = Ollama(base_url=ollama_url, model=\"dolphin-mistral\", keep_alive=5, temperature=0.0)"
   ]
  },
  {
   "cell_type": "code",
   "execution_count": 13,
   "metadata": {},
   "outputs": [
    {
     "name": "stdout",
     "output_type": "stream",
     "text": [
      "The output should be a markdown code snippet formatted in the following schema, including the leading and trailing \"```json\" and \"```\":\n",
      "\n",
      "```json\n",
      "{\n",
      "\t\"titles\": string  // a list of title strings\n",
      "}\n",
      "```\n"
     ]
    }
   ],
   "source": [
    "title_schema = [ResponseSchema(name=\"titles\", description=\"a list of title strings\", schema={\"type\": \"array\", \"items\": {\"type\": \"string\"}})]\n",
    "   \n",
    "parser = StructuredOutputParser.from_response_schemas(title_schema)\n",
    "print(parser.get_format_instructions())"
   ]
  },
  {
   "cell_type": "code",
   "execution_count": 4,
   "metadata": {},
   "outputs": [
    {
     "data": {
      "text/plain": [
       "'The output should be formatted as a JSON instance that conforms to the JSON schema below.\\n\\nAs an example, for the schema {\"properties\": {\"foo\": {\"title\": \"Foo\", \"description\": \"a list of strings\", \"type\": \"array\", \"items\": {\"type\": \"string\"}}}, \"required\": [\"foo\"]}\\nthe object {\"foo\": [\"bar\", \"baz\"]} is a well-formatted instance of the schema. The object {\"properties\": {\"foo\": [\"bar\", \"baz\"]}} is not well-formatted.\\n\\nHere is the output schema:\\n```\\n{\"$defs\": {\"TitleItem\": {\"properties\": {\"titel\": {\"title\": \"Titel\", \"type\": \"string\"}}, \"required\": [\"titel\"], \"title\": \"TitleItem\", \"type\": \"object\"}}, \"properties\": {\"titles\": {\"items\": {\"$ref\": \"#/$defs/TitleItem\"}, \"title\": \"Titles\", \"type\": \"array\"}}, \"required\": [\"titles\"]}\\n```'"
      ]
     },
     "execution_count": 4,
     "metadata": {},
     "output_type": "execute_result"
    }
   ],
   "source": [
    "from langchain.output_parsers import PydanticOutputParser\n",
    "from pydantic import BaseModel, Field, validator\n",
    "from typing import List, Optional\n",
    "\n",
    "class TitleItem(BaseModel):\n",
    "  titel: str\n",
    "\n",
    "class Titles(BaseModel):\n",
    "  titles: List[TitleItem]\n",
    "    \n",
    "parser = PydanticOutputParser(pydantic_object=Titles)\n",
    "parser.get_format_instructions()\n",
    "#print(parser.get_format_instructions())"
   ]
  },
  {
   "cell_type": "code",
   "execution_count": 14,
   "metadata": {},
   "outputs": [],
   "source": [
    "prompt = PromptTemplate(\n",
    "\ttemplate=\"{data}\\n{format_instructions}\\n\",\n",
    "\tinput_variables=[\"data\"],\n",
    "\tpartial_variables={\"format_instructions\": parser.get_format_instructions()},\n",
    ")\n",
    "\n",
    "# format chat prompt\n",
    "system_prompt = SystemMessage(content=(\"\"\"\n",
    "\tYou are and news article title editor that reviews and provides a concise and accurate title when given a json list of Titles and article Summaries. \n",
    "\tDo your best to keep the existing title if possible.\n",
    "\tRemove all links and url strings from the title.\n",
    "\tTitle should be as short as possible, aim to be less that 70 characters long.\n",
    "\tTitle should have an absolute minimum of punctuation.\n",
    "\t\"\"\"))\n",
    "user_prompt = HumanMessagePromptTemplate(prompt=prompt)\n",
    "\n",
    "chat_prompt = ChatPromptTemplate.from_messages([system_prompt, user_prompt])"
   ]
  },
  {
   "cell_type": "code",
   "execution_count": 15,
   "metadata": {},
   "outputs": [],
   "source": [
    "chain = chat_prompt | model | parser"
   ]
  },
  {
   "cell_type": "code",
   "execution_count": 16,
   "metadata": {},
   "outputs": [],
   "source": [
    "items = [\n",
    "{'title': 'OPEN THREAD:  Just do it.', 'summary': 'OPEN THREAD: Just do it.'},\n",
    "{'title': 'THIS PARAGRAPH CAPTURES THE ESSENCE OF THE ATLANTIC’S SAD PIECE ON THE WORLD’S BIGGEST CRUISE SHIP:', 'summary': 'THIS PARAGRAPH CAPTURES THE ESSENCE OF THE ATLANTIC&#8217;S SAD PIECE ON THE WORLD&#8217;S BIGGEST CRUISE SHIP: &#8220;A real journalist or a more intrepid conversationalist would have gone up to the couple and asked them to explain the longevity of their marriage vis-à-vis their love of cruising. But instead I head to my mall suite, take [&#8230;]'},\n",
    "{'title': 'THE NEW SPACE RACE:  China launches first of a new series of Yaogan reconnaissance satellites.', 'summary': 'THE NEW SPACE RACE: China launches first of a new series of Yaogan reconnaissance satellites.'},\n",
    "{'title': 'WHY IS THE BIDEN ADMINISTRATION TRYING SO HARD TO KEEP HAMAS FROM LOSING?  Biden Calls for Ceasefire', 'summary': 'WHY IS THE BIDEN ADMINISTRATION TRYING SO HARD TO KEEP HAMAS FROM LOSING? Biden Calls for Ceasefire During Phone Call with Netanyahu.'},\n",
    "{'title': 'BOOK RECOMMENDATION:  So I just finished up The Naval Odyssey of Prof. James Brand, so far as it goe', 'summary': 'BOOK RECOMMENDATION: So I just finished up The Naval Odyssey of Prof. James Brand, so far as it goes to date, and quite enjoyed it. It&#8217;s a World War II series with plenty of action, but its central character is Prof. James Brand, a wunderkind physicist/operations analyst who zips around solving problems with everything from [&#8230;]'},\n",
    "{'title': 'TUNED MASS DAMPERS FOR THE WIN:  How a steel ball protected Taiwan’s tallest skyscraper in an eart', 'summary': 'TUNED MASS DAMPERS FOR THE WIN: How a steel ball protected Taiwan’s tallest skyscraper in an earthquake.'},\n",
    "{'title': 'SCIENCE:  Thinking You Look Younger Has A Curious Link to How You Age.', 'summary': 'SCIENCE: Thinking You Look Younger Has A Curious Link to How You Age.'},\n",
    "{'title': 'ATTEMPT NO LANDINGS THERE:  Jupiter’s Moon Europa Beckons As NASA’s Clipper Prepares for the Unk', 'summary': 'ATTEMPT NO LANDINGS THERE: Jupiter’s Moon Europa Beckons As NASA’s Clipper Prepares for the Unknown.'},\n",
    "{'title': 'FLASHBACK:  Time for Consequences:  The “Cabal” who bragged about rigging the 2020 election stuck us', 'summary': 'FLASHBACK: Time for Consequences: The &#8220;Cabal&#8221; who bragged about rigging the 2020 election stuck us with an incapable president at a time of crisis. Examples need to be made.'},\n",
    "{'title': 'MICROBIOME NEWS:  Gut microbes may influence odds for obesity.', 'summary': 'MICROBIOME NEWS: Gut microbes may influence odds for obesity.'},\n",
    "]"
   ]
  },
  {
   "cell_type": "code",
   "execution_count": 17,
   "metadata": {},
   "outputs": [
    {
     "name": "stdout",
     "output_type": "stream",
     "text": [
      "['OPEN THREAD',\n",
      " 'China Launches First Yaogan Satellite',\n",
      " 'Biden Calls for Ceasefire in Gaza Conflict',\n",
      " \"Tuned Mass Dampers Protect Taiwan's Tallest Skyscraper\",\n",
      " 'Thinking You Look Younger Linked to Aging',\n",
      " \"Jupiter's Moon Europa Beckons NASA's Clipper\",\n",
      " 'Cabal Rigged 2020 Election, Stuck US with Incapable President']\n"
     ]
    }
   ],
   "source": [
    "# convert items to json\n",
    "import json\n",
    "from pprint import pprint as pp\n",
    "json = json.dumps(items)\n",
    "#pp(json)\n",
    "\n",
    "output = chain.invoke({\"data\": json})\n",
    "pp(output['titles'])"
   ]
  },
  {
   "cell_type": "code",
   "execution_count": null,
   "metadata": {},
   "outputs": [
    {
     "name": "stdout",
     "output_type": "stream",
     "text": [
      "Just Do It: Open Thread\n",
      "World's Biggest Cruise Ship: Couple's Long Marriage and Love of Cruising\n",
      "China Launches First Yaogan Recon Satellite in New Series\n",
      "Biden Calls for Ceasefire, Biden Admin Supports Hamas\n",
      "Naval Odyssey: Enjoyed WWII Series with Prof. James Brand\n",
      "Taiwan's Tallest Skyscraper Protected by Tuned Mass Dampers in Earthquake\n",
      "Thinking Younger Linked to Aging Process\n",
      "NASA's Clipper to Explore Europa\n",
      "Cabal Rigged 2020 Election, Led to Incapable President in Crisis\n",
      "Gut Microbes Influence Odds For Obesity\n"
     ]
    }
   ],
   "source": [
    "for item in items:\n",
    "  output = output_parser.parse(chain.invoke({\"data\": item['title'], \"summary\": item['summary']}))\n",
    "  print(output['title'])\n",
    "\n"
   ]
  }
 ],
 "metadata": {
  "kernelspec": {
   "display_name": "Python 3",
   "language": "python",
   "name": "python3"
  },
  "language_info": {
   "codemirror_mode": {
    "name": "ipython",
    "version": 3
   },
   "file_extension": ".py",
   "mimetype": "text/x-python",
   "name": "python",
   "nbconvert_exporter": "python",
   "pygments_lexer": "ipython3",
   "version": "3.12.2"
  }
 },
 "nbformat": 4,
 "nbformat_minor": 2
}
