{
 "cells": [
  {
   "cell_type": "code",
   "execution_count": 18,
   "metadata": {},
   "outputs": [],
   "source": [
    "import yaml\n",
    "import re"
   ]
  },
  {
   "cell_type": "code",
   "execution_count": 7,
   "metadata": {},
   "outputs": [],
   "source": [
    "yaml = yaml.safe_load(open('../app/configs/layout.yml'))\n",
    "feed = yaml['tabs'][0]['widgets'][1]\n",
    "filters = feed['filters']"
   ]
  },
  {
   "cell_type": "code",
   "execution_count": 8,
   "metadata": {},
   "outputs": [
    {
     "name": "stdout",
     "output_type": "stream",
     "text": [
      "strip\n",
      "remove\n"
     ]
    }
   ],
   "source": [
    "for filter in filters:\n",
    "  print(filter)"
   ]
  },
  {
   "cell_type": "code",
   "execution_count": 32,
   "metadata": {},
   "outputs": [],
   "source": [
    "from dataclasses import  dataclass\n",
    "from typing import List\n",
    "\n",
    "# strip:\n",
    "# \t- summary: '^Tweet\\s*\\.{0,3}|\\…\\s+'\n",
    "# remove:\n",
    "# \t- title: \"#CommissionEarned\"\n",
    "# \t- title: \"Open Thread\"\n",
    "\n",
    "@dataclass\n",
    "class Article:\n",
    "\t\ttitle: str\n",
    "\t\tsummary: str\n",
    "  \n",
    "@dataclass\n",
    "class Articles:\n",
    "\tarticles: List[Article]\n",
    "\n",
    "self = Articles([])  \n",
    "  \n",
    "self.articles = [\n",
    "\t\tArticle('title #CommissionEarned', 'summary'),\n",
    "\t\tArticle('title Open Thread', 'summary'),\n",
    "\t\tArticle('title', 'Tweet foo bar'),\t\n",
    "\t\tArticle('baz', 'monday'),\n",
    "]\n"
   ]
  },
  {
   "cell_type": "code",
   "execution_count": 33,
   "metadata": {},
   "outputs": [
    {
     "name": "stdout",
     "output_type": "stream",
     "text": [
      "title: title summary: foo bar\n",
      "title: baz summary: monday\n"
     ]
    }
   ],
   "source": [
    "for article in self.articles[:]:\n",
    "\tfor filter_type in filters:\n",
    "\t\tfor filter in filters[filter_type]:\n",
    "\t\t\tfor attribute in filter:\n",
    "\t\t\t\tfilter_text = filter[attribute]\n",
    "\t\t\t\tif not hasattr(article, attribute):\n",
    "\t\t\t\t\tnext\n",
    "\t\t\t\tmatch filter_type:\n",
    "\t\t\t\t\tcase 'remove':\n",
    "\t\t\t\t\t\tif re.search(filter_text, getattr(article, attribute), re.IGNORECASE):\n",
    "\t\t\t\t\t\t\tself.articles.remove(article)\n",
    "\t\t\t\t\tcase 'strip':\n",
    "\t\t\t\t\t\t\tpattern = re.compile(filter_text)\n",
    "\t\t\t\t\t\t\tresult = re.sub(pattern, '', getattr(article, attribute))\n",
    "\t\t\t\t\t\t\tsetattr(article, attribute, result)\n",
    "       \n",
    "for article in self.articles:\n",
    "  print(f\"title: {article.title} summary: {article.summary}\")\n"
   ]
  },
  {
   "cell_type": "markdown",
   "metadata": {},
   "source": [
    "```python\n",
    "for article in self.articles[:]:\n",
    "\tfor filter_type in self.widget['filters']:\n",
    "\t\tfor filter in self.widget['filters'][filter_type]:\n",
    "\t\t\tmatch filter_type:\n",
    "\t\t\t\tcase 'strip':\n",
    "\t\t\t\t\tre.sub(r'^Tweet\\s*\\.{0,3}|\\…\\s+', '', article['summary'])\n",
    "\t\t\t\t\n",
    "\t\t\t\tif hasattr(article, 'summary'):\n",
    "\t\t\t\t\tarticle.summary = re.sub(filter_text, '', article.summary, flags=re.IGNORECASE)\n",
    "\t\t\tcase _:\n",
    "\t\t\t\tif hasattr(article, filter_type):\n",
    "\t\t\t\t\tarticle[filter_type] = re.sub(filter_text, '', article[filter_type], flags=re.IGNORECASE)\n",
    "\n",
    "\n",
    "\tfor filter_type, filter_texts in self.widget['filters'].items():\n",
    "\t\tfor filter_text in filter_texts:\n",
    "\t\t\tif filter_type == 'strip' and hasattr(article, 'summary'):\n",
    "\t\t\t\tarticle.summary = re.sub(filter_text, '', article.summary, flags=re.IGNORECASE)\n",
    "\t\t\telif hasattr(article, filter_type) and re.search(filter_text, getattr(article, filter_type), re.IGNORECASE):\n",
    "\t\t\t\tself.articles.remove(article)\n",
    "\t\t\t\tbreak\n",
    "```"
   ]
  }
 ],
 "metadata": {
  "kernelspec": {
   "display_name": "Python 3",
   "language": "python",
   "name": "python3"
  },
  "language_info": {
   "codemirror_mode": {
    "name": "ipython",
    "version": 3
   },
   "file_extension": ".py",
   "mimetype": "text/x-python",
   "name": "python",
   "nbconvert_exporter": "python",
   "pygments_lexer": "ipython3",
   "version": "3.12.3"
  }
 },
 "nbformat": 4,
 "nbformat_minor": 2
}
