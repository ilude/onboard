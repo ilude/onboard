{
 "cells": [
  {
   "cell_type": "code",
   "execution_count": 18,
   "metadata": {},
   "outputs": [],
   "source": [
    "import yaml\n",
    "import re"
   ]
  },
  {
   "cell_type": "code",
   "execution_count": 7,
   "metadata": {},
   "outputs": [],
   "source": [
    "yaml = yaml.safe_load(open('../app/configs/layout.yml'))\n",
    "feed = yaml['tabs'][0]['widgets'][1]\n",
    "filters = feed['filters']"
   ]
  },
  {
   "cell_type": "code",
   "execution_count": 8,
   "metadata": {},
   "outputs": [
    {
     "name": "stdout",
     "output_type": "stream",
     "text": [
      "strip\n",
      "remove\n"
     ]
    }
   ],
   "source": [
    "for filter in filters:\n",
    "  print(filter)"
   ]
  },
  {
   "cell_type": "code",
   "execution_count": 32,
   "metadata": {},
   "outputs": [],
   "source": [
    "from dataclasses import  dataclass\n",
    "from typing import List\n",
    "\n",
    "# strip:\n",
    "# \t- summary: '^Tweet\\s*\\.{0,3}|\\…\\s+'\n",
    "# remove:\n",
    "# \t- title: \"#CommissionEarned\"\n",
    "# \t- title: \"Open Thread\"\n",
    "\n",
    "@dataclass\n",
    "class Article:\n",
    "\t\ttitle: str\n",
    "\t\tsummary: str\n",
    "  \n",
    "@dataclass\n",
    "class Articles:\n",
    "\tarticles: List[Article]\n",
    "\n",
    "self = Articles([])  \n",
    "  \n",
    "self.articles = [\n",
    "\t\tArticle('title #CommissionEarned', 'summary'),\n",
    "\t\tArticle('title Open Thread', 'summary'),\n",
    "\t\tArticle('title', 'Tweet foo bar'),\t\n",
    "\t\tArticle('baz', 'monday'),\n",
    "]\n"
   ]
  },
  {
   "cell_type": "code",
   "execution_count": 33,
   "metadata": {},
   "outputs": [
    {
     "name": "stdout",
     "output_type": "stream",
     "text": [
      "title: title summary: foo bar\n",
      "title: baz summary: monday\n"
     ]
    }
   ],
   "source": [
    "for article in self.articles[:]:\n",
    "\tfor filter_type in filters:\n",
    "\t\tfor filter in filters[filter_type]:\n",
    "\t\t\tfor attribute in filter:\n",
    "\t\t\t\tfilter_text = filter[attribute]\n",
    "\t\t\t\tif not hasattr(article, attribute):\n",
    "\t\t\t\t\tnext\n",
    "\t\t\t\tmatch filter_type:\n",
    "\t\t\t\t\tcase 'remove':\n",
    "\t\t\t\t\t\tif re.search(filter_text, getattr(article, attribute), re.IGNORECASE):\n",
    "\t\t\t\t\t\t\tself.articles.remove(article)\n",
    "\t\t\t\t\tcase 'strip':\n",
    "\t\t\t\t\t\t\tpattern = re.compile(filter_text)\n",
    "\t\t\t\t\t\t\tresult = re.sub(pattern, '', getattr(article, attribute))\n",
    "\t\t\t\t\t\t\tsetattr(article, attribute, result)\n",
    "       \n",
    "for article in self.articles:\n",
    "  print(f\"title: {article.title} summary: {article.summary}\")\n"
   ]
  },
  {
   "cell_type": "code",
   "execution_count": 35,
   "metadata": {},
   "outputs": [
    {
     "name": "stdout",
     "output_type": "stream",
     "text": [
      "Unique articles:\n",
      "ID: b7ad0a1799be0c2543e628cd08ef70aef242138d, Title: Article 1\n",
      "ID: 38ea4fb5e35d16994867f10d1ad197f033063833, Title: Article 2\n",
      "ID: ce164a207f69328c5235d5b3f2a147aa36d71a12, Title: Article 3\n",
      "ID: 3a8b53187e497737b2a49e571723a513e62e455b, Title: Article 4\n",
      "ID: cb6add65af0a9ba1232c01dc94b34f98862773f2, Title: Article 5\n"
     ]
    }
   ],
   "source": [
    "import hashlib\n",
    "\n",
    "class Article:\n",
    "    def __init__(self, title, summary):\n",
    "        self.id = self.generate_id(title)\n",
    "        self.title = title\n",
    "        self.summary = summary\n",
    "\n",
    "    def generate_id(self, title):\n",
    "        return hashlib.sha1(title.encode()).hexdigest()\n",
    "\n",
    "    def __str__(self):\n",
    "        return f\"ID: {self.id}, Title: {self.title}\"\n",
    "\n",
    "# Example list of articles\n",
    "articles = [\n",
    "    Article(\"Article 1\", \"This is the first article.\"),\n",
    "    Article(\"Article 2\", \"This is the second article.\"),\n",
    "    Article(\"Article 3\", \"This is the third article.\"),\n",
    "    Article(\"Article 2\", \"This is a duplicate of the second article.\"),\n",
    "    Article(\"Article 4\", \"This is the fourth article.\"),\n",
    "    Article(\"Article 5\", \"This is the fifth article.\"),\n",
    "    Article(\"Article 1\", \"This is a duplicate of the first article.\")\n",
    "]\n",
    "\n",
    "# Remove duplicate articles\n",
    "unique_articles = list(dict((article.id, article) for article in articles).values())\n",
    "\n",
    "print(\"Unique articles:\")\n",
    "for article in unique_articles:\n",
    "    print(article)"
   ]
  }
 ],
 "metadata": {
  "kernelspec": {
   "display_name": "Python 3",
   "language": "python",
   "name": "python3"
  },
  "language_info": {
   "codemirror_mode": {
    "name": "ipython",
    "version": 3
   },
   "file_extension": ".py",
   "mimetype": "text/x-python",
   "name": "python",
   "nbconvert_exporter": "python",
   "pygments_lexer": "ipython3",
   "version": "3.12.3"
  }
 },
 "nbformat": 4,
 "nbformat_minor": 2
}
